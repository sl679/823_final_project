{
 "cells": [
  {
   "cell_type": "markdown",
   "id": "hollywood-pickup",
   "metadata": {},
   "source": [
    "# Ridge regression and Random forest regression"
   ]
  },
  {
   "cell_type": "markdown",
   "id": "adjusted-rebel",
   "metadata": {},
   "source": [
    "#### Import necessary packages"
   ]
  },
  {
   "cell_type": "code",
   "execution_count": 227,
   "id": "royal-developer",
   "metadata": {},
   "outputs": [],
   "source": [
    "import warnings\n",
    "warnings.filterwarnings('ignore')\n",
    "from pandas import DatetimeIndex\n",
    "from pandas import Timestamp\n",
    "import pandas as pd\n",
    "from pandas import read_csv\n",
    "from pandas import DataFrame\n",
    "from pandas import concat\n",
    "import matplotlib.pyplot as plt\n",
    "import seaborn as sns\n",
    "import numpy as np\n",
    "from numpy import asarray\n",
    "import datetime as dt\n",
    "from datetime import timedelta\n",
    "import time\n",
    "from sklearn.linear_model import Ridge\n",
    "from sklearn.ensemble import RandomForestRegressor\n",
    "from sklearn.tree import DecisionTreeRegressor\n",
    "from sklearn.metrics import mean_squared_error,r2_score, mean_absolute_error\n",
    "import plotly.express as px"
   ]
  },
  {
   "cell_type": "markdown",
   "id": "unusual-witch",
   "metadata": {},
   "source": [
    "#### Read in the dataset and sort by date"
   ]
  },
  {
   "cell_type": "code",
   "execution_count": 228,
   "id": "parental-blond",
   "metadata": {},
   "outputs": [],
   "source": [
    "df = pd.read_csv(\"United_States_COVID-19_Cases_and_Deaths_by_State_over_Time.csv\")\n",
    "df[\"submission_date\"] = pd.to_datetime(df[\"submission_date\"])\n",
    "df = df.sort_values(by=\"submission_date\")"
   ]
  },
  {
   "cell_type": "markdown",
   "id": "fantastic-mineral",
   "metadata": {},
   "source": [
    "## Ridge regression"
   ]
  },
  {
   "cell_type": "markdown",
   "id": "tribal-confusion",
   "metadata": {},
   "source": [
    "#### Filtering out the data in desired range"
   ]
  },
  {
   "cell_type": "code",
   "execution_count": 150,
   "id": "transsexual-subject",
   "metadata": {},
   "outputs": [],
   "source": [
    "start_date = '2020-12-14'\n",
    "end_date = '2021-11-19'"
   ]
  },
  {
   "cell_type": "code",
   "execution_count": 151,
   "id": "charitable-fever",
   "metadata": {},
   "outputs": [],
   "source": [
    "mask = (df['submission_date'] >= start_date) & (df['submission_date'] <= end_date)\n",
    "df = df.loc[mask]"
   ]
  },
  {
   "cell_type": "markdown",
   "id": "short-boston",
   "metadata": {},
   "source": [
    "#### Define few functions for further use."
   ]
  },
  {
   "cell_type": "code",
   "execution_count": 152,
   "id": "another-petite",
   "metadata": {},
   "outputs": [],
   "source": [
    "def split_train_test(n, df):\n",
    "    train = df.iloc[:int(df.shape[0]*n)]\n",
    "    valid = df.iloc[int(df.shape[0]*n):]\n",
    "    return train, valid"
   ]
  },
  {
   "cell_type": "code",
   "execution_count": 153,
   "id": "copyrighted-ratio",
   "metadata": {},
   "outputs": [],
   "source": [
    "def plot_result(data,new_date_time_index, forecast, gcolor, gcase, gtitle):\n",
    "    plt.plot(data,label=\"Actual \"+gcase,color=gcolor, linestyle='solid', linewidth = 1, marker='o', markerfacecolor=gcolor, markersize=1)\n",
    "    plt.plot(new_date_time_index,forecast,label=\"Predicted \"+gcase,color='black', linestyle='solid', linewidth = 1, marker='*', markerfacecolor='black', markersize=1)\n"
   ]
  },
  {
   "cell_type": "code",
   "execution_count": 229,
   "id": "guilty-senator",
   "metadata": {},
   "outputs": [],
   "source": [
    "def new_forecast(prediction,new_prediction,new_date):\n",
    "    \n",
    "    forecast=np.concatenate((prediction,new_prediction))\n",
    "\n",
    "    new_ar = []\n",
    "\n",
    "    for single_timestamp in datewise_state.index:\n",
    "        new_ar.append(pd.to_datetime(single_timestamp))\n",
    "\n",
    "    for single_timestamp in new_date:\n",
    "        new_ar.append(pd.to_datetime(single_timestamp))\n",
    "\n",
    "    new_date_time_index = DatetimeIndex(new_ar, dtype='datetime64[ns]', name='Date', freq=None)\n",
    "\n",
    "    return (forecast,new_date_time_index)"
   ]
  },
  {
   "cell_type": "code",
   "execution_count": 155,
   "id": "beginning-phrase",
   "metadata": {},
   "outputs": [],
   "source": [
    "def eval_reg(y,y_p):\n",
    "    print(\"Mean Absolute Error: \",mean_absolute_error(y,y_p))\n",
    "    print(\"R2-Squared:\", r2_score(y,y_p))"
   ]
  },
  {
   "cell_type": "code",
   "execution_count": 157,
   "id": "associate-holiday",
   "metadata": {},
   "outputs": [],
   "source": [
    "def RidgeRegression_covid_19(aph,train,valid,data,case, datewise_state):\n",
    "    model_scores=[]\n",
    "\n",
    "    rf=Ridge(alpha=aph)\n",
    "    rf.fit(np.array(train_ml[\"Days Since\"]).reshape(-1,1),np.array(train).reshape(-1,1))\n",
    "    \n",
    "    prediction_valid_rf=rf.predict(np.array(valid_ml[\"Days Since\"]).reshape(-1,1))\n",
    "    model_scores.append(np.sqrt(mean_squared_error(valid,prediction_valid_rf)))\n",
    "    print(\"RMSE for Ridge Regression Regression: \",model_scores)\n",
    "\n",
    "    prediction_rf=rf.predict(np.array(datewise_state[\"Days Since\"]).reshape(-1,1))\n",
    "\n",
    "    new_date=[]\n",
    "    new_prediction_rf=[]\n",
    "    \n",
    "    eval_reg(valid,prediction_valid_rf) \n",
    "\n",
    "    for i in range(1,8):\n",
    "        new_date.append(datewise_state.index[-1]+timedelta(days=i))\n",
    "        new_prediction_rf.append(rf.predict(np.array(datewise_state[\"Days Since\"].max()+i).reshape(-1,1))[0]) \n",
    " \n",
    "    forecast_rf, new_date_time_index =new_forecast(prediction_rf,new_prediction_rf,new_date)\n",
    "    plot_result(data,new_date_time_index, forecast_rf,'blue', case, 'Ridge Regression Regression Prediction')\n",
    "\n",
    "    return (forecast_rf, new_date_time_index,model_scores)\n",
    "    "
   ]
  },
  {
   "cell_type": "markdown",
   "id": "collective-yellow",
   "metadata": {},
   "source": [
    "### Building ridge regression model for California"
   ]
  },
  {
   "cell_type": "code",
   "execution_count": 216,
   "id": "blond-letter",
   "metadata": {},
   "outputs": [],
   "source": [
    "df_state_ca = df[df[\"state\"] =='CA']\n",
    "datewise_ca=df_state_ca.groupby([\"submission_date\"]).agg({\"tot_cases\":'sum',\"tot_death\":'sum'})\n"
   ]
  },
  {
   "cell_type": "code",
   "execution_count": 159,
   "id": "temporal-germany",
   "metadata": {},
   "outputs": [
    {
     "data": {
      "text/html": [
       "<div>\n",
       "<style scoped>\n",
       "    .dataframe tbody tr th:only-of-type {\n",
       "        vertical-align: middle;\n",
       "    }\n",
       "\n",
       "    .dataframe tbody tr th {\n",
       "        vertical-align: top;\n",
       "    }\n",
       "\n",
       "    .dataframe thead th {\n",
       "        text-align: right;\n",
       "    }\n",
       "</style>\n",
       "<table border=\"1\" class=\"dataframe\">\n",
       "  <thead>\n",
       "    <tr style=\"text-align: right;\">\n",
       "      <th></th>\n",
       "      <th>tot_cases</th>\n",
       "      <th>tot_death</th>\n",
       "      <th>Days Since</th>\n",
       "    </tr>\n",
       "    <tr>\n",
       "      <th>submission_date</th>\n",
       "      <th></th>\n",
       "      <th></th>\n",
       "      <th></th>\n",
       "    </tr>\n",
       "  </thead>\n",
       "  <tbody>\n",
       "    <tr>\n",
       "      <th>2020-12-14</th>\n",
       "      <td>1585044</td>\n",
       "      <td>21088</td>\n",
       "      <td>0</td>\n",
       "    </tr>\n",
       "    <tr>\n",
       "      <th>2020-12-15</th>\n",
       "      <td>1617370</td>\n",
       "      <td>21178</td>\n",
       "      <td>1</td>\n",
       "    </tr>\n",
       "    <tr>\n",
       "      <th>2020-12-16</th>\n",
       "      <td>1671081</td>\n",
       "      <td>21410</td>\n",
       "      <td>2</td>\n",
       "    </tr>\n",
       "    <tr>\n",
       "      <th>2020-12-17</th>\n",
       "      <td>1723362</td>\n",
       "      <td>21817</td>\n",
       "      <td>3</td>\n",
       "    </tr>\n",
       "    <tr>\n",
       "      <th>2020-12-18</th>\n",
       "      <td>1764374</td>\n",
       "      <td>22080</td>\n",
       "      <td>4</td>\n",
       "    </tr>\n",
       "    <tr>\n",
       "      <th>...</th>\n",
       "      <td>...</td>\n",
       "      <td>...</td>\n",
       "      <td>...</td>\n",
       "    </tr>\n",
       "    <tr>\n",
       "      <th>2021-11-15</th>\n",
       "      <td>4992875</td>\n",
       "      <td>72570</td>\n",
       "      <td>336</td>\n",
       "    </tr>\n",
       "    <tr>\n",
       "      <th>2021-11-16</th>\n",
       "      <td>4997390</td>\n",
       "      <td>72590</td>\n",
       "      <td>337</td>\n",
       "    </tr>\n",
       "    <tr>\n",
       "      <th>2021-11-17</th>\n",
       "      <td>5001302</td>\n",
       "      <td>72718</td>\n",
       "      <td>338</td>\n",
       "    </tr>\n",
       "    <tr>\n",
       "      <th>2021-11-18</th>\n",
       "      <td>5009101</td>\n",
       "      <td>72847</td>\n",
       "      <td>339</td>\n",
       "    </tr>\n",
       "    <tr>\n",
       "      <th>2021-11-19</th>\n",
       "      <td>5014428</td>\n",
       "      <td>73000</td>\n",
       "      <td>340</td>\n",
       "    </tr>\n",
       "  </tbody>\n",
       "</table>\n",
       "<p>341 rows × 3 columns</p>\n",
       "</div>"
      ],
      "text/plain": [
       "                 tot_cases  tot_death  Days Since\n",
       "submission_date                                  \n",
       "2020-12-14         1585044      21088           0\n",
       "2020-12-15         1617370      21178           1\n",
       "2020-12-16         1671081      21410           2\n",
       "2020-12-17         1723362      21817           3\n",
       "2020-12-18         1764374      22080           4\n",
       "...                    ...        ...         ...\n",
       "2021-11-15         4992875      72570         336\n",
       "2021-11-16         4997390      72590         337\n",
       "2021-11-17         5001302      72718         338\n",
       "2021-11-18         5009101      72847         339\n",
       "2021-11-19         5014428      73000         340\n",
       "\n",
       "[341 rows x 3 columns]"
      ]
     },
     "execution_count": 159,
     "metadata": {},
     "output_type": "execute_result"
    }
   ],
   "source": [
    "datewise_ca[\"Days Since\"] = datewise_ca.index-datewise_ca.index[0]\n",
    "datewise_ca[\"Days Since\"] = datewise_ca[\"Days Since\"].dt.days\n",
    "datewise_ca"
   ]
  },
  {
   "cell_type": "markdown",
   "id": "tough-typing",
   "metadata": {},
   "source": [
    "### Split the data set into training and testing by 80:20"
   ]
  },
  {
   "cell_type": "code",
   "execution_count": 160,
   "id": "empty-phoenix",
   "metadata": {},
   "outputs": [],
   "source": [
    "train_ml_ca, valid_ml_ca = split_train_test(0.8, datewise_ca)"
   ]
  },
  {
   "cell_type": "code",
   "execution_count": 161,
   "id": "burning-haven",
   "metadata": {},
   "outputs": [
    {
     "data": {
      "image/png": "[encoded data removed]",
      "text/plain": [
       "<Figure size 432x288 with 1 Axes>"
      ]
     },
     "metadata": {
      "needs_background": "light"
     },
     "output_type": "display_data"
    }
   ],
   "source": [
    "\n",
    "plt.scatter(df_state_case[\"submission_date\"], df_state_case[\"tot_cases\"])\n",
    "plt.show()"
   ]
  },
  {
   "cell_type": "code",
   "execution_count": 162,
   "id": "rotary-encyclopedia",
   "metadata": {},
   "outputs": [
    {
     "name": "stdout",
     "output_type": "stream",
     "text": [
      "RMSE for Ridge Regression Regression:  [132687.1061091103]\n",
      "Mean Absolute Error:  132390.1686492473\n",
      "R2-Squared: 0.015833285852311363\n"
     ]
    },
    {
     "data": {
      "image/png": "[encoded data removed]",
      "text/plain": [
       "<Figure size 432x288 with 1 Axes>"
      ]
     },
     "metadata": {},
     "output_type": "display_data"
    }
   ],
   "source": [
    "\n",
    "forecast_r_ca, new_date_time_index_ca, model_score_r_ca = RidgeRegression_covid_19(20,train_ml_ca[\"tot_cases\"],valid_ml_ca[\"tot_cases\"],datewise_ca[\"tot_cases\"],'Confirmed Cases',datewise_ca)\n"
   ]
  },
  {
   "cell_type": "markdown",
   "id": "secondary-novel",
   "metadata": {},
   "source": [
    "#### One week predictions for California"
   ]
  },
  {
   "cell_type": "code",
   "execution_count": 218,
   "id": "beautiful-cylinder",
   "metadata": {},
   "outputs": [
    {
     "data": {
      "text/plain": [
       "4913282.596005402"
      ]
     },
     "execution_count": 218,
     "metadata": {},
     "output_type": "execute_result"
    }
   ],
   "source": [
    "forecast_r_ca[-7:]"
   ]
  },
  {
   "cell_type": "markdown",
   "id": "touched-captain",
   "metadata": {},
   "source": [
    "#### Average value for prediction for the next week in California"
   ]
  },
  {
   "cell_type": "code",
   "execution_count": 224,
   "id": "advisory-yorkshire",
   "metadata": {},
   "outputs": [
    {
     "data": {
      "text/plain": [
       "4913282.596005402"
      ]
     },
     "execution_count": 224,
     "metadata": {},
     "output_type": "execute_result"
    }
   ],
   "source": [
    "np.mean(forecast_r_ca[-7:])"
   ]
  },
  {
   "cell_type": "markdown",
   "id": "refined-repeat",
   "metadata": {},
   "source": [
    "The predicted average total cases for California in the next 7 days after November 19th is 4913282.596."
   ]
  },
  {
   "cell_type": "markdown",
   "id": "positive-detroit",
   "metadata": {},
   "source": [
    "### Building model for Florida"
   ]
  },
  {
   "cell_type": "code",
   "execution_count": 164,
   "id": "tight-myrtle",
   "metadata": {},
   "outputs": [
    {
     "data": {
      "image/png": "[encoded data removed]",
      "text/plain": [
       "<Figure size 432x288 with 1 Axes>"
      ]
     },
     "metadata": {},
     "output_type": "display_data"
    }
   ],
   "source": [
    "df_state_fl = df[df[\"state\"] == 'FL']\n",
    "plt.scatter(df_state_fl[\"submission_date\"], df_state_fl[\"tot_cases\"])\n",
    "plt.show()"
   ]
  },
  {
   "cell_type": "code",
   "execution_count": 165,
   "id": "several-melissa",
   "metadata": {},
   "outputs": [
    {
     "data": {
      "text/html": [
       "<div>\n",
       "<style scoped>\n",
       "    .dataframe tbody tr th:only-of-type {\n",
       "        vertical-align: middle;\n",
       "    }\n",
       "\n",
       "    .dataframe tbody tr th {\n",
       "        vertical-align: top;\n",
       "    }\n",
       "\n",
       "    .dataframe thead th {\n",
       "        text-align: right;\n",
       "    }\n",
       "</style>\n",
       "<table border=\"1\" class=\"dataframe\">\n",
       "  <thead>\n",
       "    <tr style=\"text-align: right;\">\n",
       "      <th></th>\n",
       "      <th>tot_cases</th>\n",
       "      <th>tot_death</th>\n",
       "    </tr>\n",
       "    <tr>\n",
       "      <th>submission_date</th>\n",
       "      <th></th>\n",
       "      <th></th>\n",
       "    </tr>\n",
       "  </thead>\n",
       "  <tbody>\n",
       "    <tr>\n",
       "      <th>2020-12-14</th>\n",
       "      <td>1122656</td>\n",
       "      <td>21409</td>\n",
       "    </tr>\n",
       "    <tr>\n",
       "      <th>2020-12-15</th>\n",
       "      <td>1133968</td>\n",
       "      <td>21524</td>\n",
       "    </tr>\n",
       "    <tr>\n",
       "      <th>2020-12-16</th>\n",
       "      <td>1146807</td>\n",
       "      <td>21630</td>\n",
       "    </tr>\n",
       "    <tr>\n",
       "      <th>2020-12-17</th>\n",
       "      <td>1159721</td>\n",
       "      <td>21745</td>\n",
       "    </tr>\n",
       "    <tr>\n",
       "      <th>2020-12-18</th>\n",
       "      <td>1171104</td>\n",
       "      <td>21860</td>\n",
       "    </tr>\n",
       "    <tr>\n",
       "      <th>...</th>\n",
       "      <td>...</td>\n",
       "      <td>...</td>\n",
       "    </tr>\n",
       "    <tr>\n",
       "      <th>2021-11-15</th>\n",
       "      <td>3672616</td>\n",
       "      <td>61074</td>\n",
       "    </tr>\n",
       "    <tr>\n",
       "      <th>2021-11-16</th>\n",
       "      <td>3674329</td>\n",
       "      <td>61078</td>\n",
       "    </tr>\n",
       "    <tr>\n",
       "      <th>2021-11-17</th>\n",
       "      <td>3676337</td>\n",
       "      <td>61080</td>\n",
       "    </tr>\n",
       "    <tr>\n",
       "      <th>2021-11-18</th>\n",
       "      <td>3677967</td>\n",
       "      <td>61081</td>\n",
       "    </tr>\n",
       "    <tr>\n",
       "      <th>2021-11-19</th>\n",
       "      <td>3679548</td>\n",
       "      <td>61081</td>\n",
       "    </tr>\n",
       "  </tbody>\n",
       "</table>\n",
       "<p>341 rows × 2 columns</p>\n",
       "</div>"
      ],
      "text/plain": [
       "                 tot_cases  tot_death\n",
       "submission_date                      \n",
       "2020-12-14         1122656      21409\n",
       "2020-12-15         1133968      21524\n",
       "2020-12-16         1146807      21630\n",
       "2020-12-17         1159721      21745\n",
       "2020-12-18         1171104      21860\n",
       "...                    ...        ...\n",
       "2021-11-15         3672616      61074\n",
       "2021-11-16         3674329      61078\n",
       "2021-11-17         3676337      61080\n",
       "2021-11-18         3677967      61081\n",
       "2021-11-19         3679548      61081\n",
       "\n",
       "[341 rows x 2 columns]"
      ]
     },
     "execution_count": 165,
     "metadata": {},
     "output_type": "execute_result"
    }
   ],
   "source": [
    "datewise_fl = df_state_fl.groupby([\"submission_date\"]).agg({\"tot_cases\":'sum',\"tot_death\":'sum'})"
   ]
  },
  {
   "cell_type": "code",
   "execution_count": 166,
   "id": "blank-roots",
   "metadata": {},
   "outputs": [],
   "source": [
    "datewise_fl[\"Days Since\"] = datewise_fl.index-datewise_fl.index[0]\n",
    "datewise_fl[\"Days Since\"] = datewise_fl[\"Days Since\"].dt.days\n",
    "datewise_fl\n",
    "train_ml_fl, valid_ml_fl = split_train_test(0.8, datewise_fl)"
   ]
  },
  {
   "cell_type": "code",
   "execution_count": 167,
   "id": "nutritional-ordinary",
   "metadata": {},
   "outputs": [
    {
     "name": "stdout",
     "output_type": "stream",
     "text": [
      "RMSE for Ridge Regression Regression:  [362609.5535802476]\n",
      "Mean Absolute Error:  355831.9658269108\n",
      "R2-Squared: -31.073739984834212\n"
     ]
    },
    {
     "data": {
      "image/png": "[encoded data removed]",
      "text/plain": [
       "<Figure size 432x288 with 1 Axes>"
      ]
     },
     "metadata": {},
     "output_type": "display_data"
    }
   ],
   "source": [
    "forecast_r_fl, new_date_time_index_fl, model_score_r_fl = RidgeRegression_covid_19(20,train_ml_fl[\"tot_cases\"],valid_ml_fl[\"tot_cases\"],datewise_fl[\"tot_cases\"],'Confirmed Cases', datewise_fl)\n"
   ]
  },
  {
   "cell_type": "markdown",
   "id": "passing-characterization",
   "metadata": {},
   "source": [
    "#### Prediction for the next week in Florida"
   ]
  },
  {
   "cell_type": "code",
   "execution_count": 225,
   "id": "signed-shirt",
   "metadata": {},
   "outputs": [
    {
     "data": {
      "text/plain": [
       "array([[3470330.84849097],\n",
       "       [3476729.63614643],\n",
       "       [3483128.42380189],\n",
       "       [3489527.21145735],\n",
       "       [3495925.99911281],\n",
       "       [3502324.78676827],\n",
       "       [3508723.57442373]])"
      ]
     },
     "execution_count": 225,
     "metadata": {},
     "output_type": "execute_result"
    }
   ],
   "source": [
    "forecast_r_fl[-7:]"
   ]
  },
  {
   "cell_type": "markdown",
   "id": "polyphonic-cartridge",
   "metadata": {},
   "source": [
    "#### Average value for prediction for the next week in Florida"
   ]
  },
  {
   "cell_type": "code",
   "execution_count": 220,
   "id": "rising-kentucky",
   "metadata": {},
   "outputs": [
    {
     "data": {
      "text/plain": [
       "3489527.211457348"
      ]
     },
     "execution_count": 220,
     "metadata": {},
     "output_type": "execute_result"
    }
   ],
   "source": [
    "np.mean(forecast_r_fl[-7:])"
   ]
  },
  {
   "cell_type": "markdown",
   "id": "civil-showcase",
   "metadata": {},
   "source": [
    "The predicted average total cases for Florida in the next 7 days after November 19th is 3489527.211."
   ]
  },
  {
   "cell_type": "markdown",
   "id": "improving-disposal",
   "metadata": {},
   "source": [
    "### Building model for Texas"
   ]
  },
  {
   "cell_type": "code",
   "execution_count": 169,
   "id": "enhanced-debate",
   "metadata": {},
   "outputs": [
    {
     "data": {
      "image/png": "[encoded data removed]",
      "text/plain": [
       "<Figure size 432x288 with 1 Axes>"
      ]
     },
     "metadata": {},
     "output_type": "display_data"
    }
   ],
   "source": [
    "df_state_tx = df[df[\"state\"] == 'TX']\n",
    "plt.scatter(df_state_tx[\"submission_date\"], df_state_tx[\"tot_cases\"])\n",
    "plt.show()"
   ]
  },
  {
   "cell_type": "code",
   "execution_count": 170,
   "id": "dedicated-memphis",
   "metadata": {},
   "outputs": [
    {
     "data": {
      "text/html": [
       "<div>\n",
       "<style scoped>\n",
       "    .dataframe tbody tr th:only-of-type {\n",
       "        vertical-align: middle;\n",
       "    }\n",
       "\n",
       "    .dataframe tbody tr th {\n",
       "        vertical-align: top;\n",
       "    }\n",
       "\n",
       "    .dataframe thead th {\n",
       "        text-align: right;\n",
       "    }\n",
       "</style>\n",
       "<table border=\"1\" class=\"dataframe\">\n",
       "  <thead>\n",
       "    <tr style=\"text-align: right;\">\n",
       "      <th></th>\n",
       "      <th>tot_cases</th>\n",
       "      <th>tot_death</th>\n",
       "    </tr>\n",
       "    <tr>\n",
       "      <th>submission_date</th>\n",
       "      <th></th>\n",
       "      <th></th>\n",
       "    </tr>\n",
       "  </thead>\n",
       "  <tbody>\n",
       "    <tr>\n",
       "      <th>2020-12-14</th>\n",
       "      <td>1482141</td>\n",
       "      <td>27183</td>\n",
       "    </tr>\n",
       "    <tr>\n",
       "      <th>2020-12-15</th>\n",
       "      <td>1500538</td>\n",
       "      <td>27402</td>\n",
       "    </tr>\n",
       "    <tr>\n",
       "      <th>2020-12-16</th>\n",
       "      <td>1519340</td>\n",
       "      <td>27616</td>\n",
       "    </tr>\n",
       "    <tr>\n",
       "      <th>2020-12-17</th>\n",
       "      <td>1539189</td>\n",
       "      <td>27851</td>\n",
       "    </tr>\n",
       "    <tr>\n",
       "      <th>2020-12-18</th>\n",
       "      <td>1555981</td>\n",
       "      <td>28096</td>\n",
       "    </tr>\n",
       "    <tr>\n",
       "      <th>...</th>\n",
       "      <td>...</td>\n",
       "      <td>...</td>\n",
       "    </tr>\n",
       "    <tr>\n",
       "      <th>2021-11-15</th>\n",
       "      <td>4268082</td>\n",
       "      <td>71633</td>\n",
       "    </tr>\n",
       "    <tr>\n",
       "      <th>2021-11-16</th>\n",
       "      <td>4272442</td>\n",
       "      <td>71722</td>\n",
       "    </tr>\n",
       "    <tr>\n",
       "      <th>2021-11-17</th>\n",
       "      <td>4277364</td>\n",
       "      <td>71844</td>\n",
       "    </tr>\n",
       "    <tr>\n",
       "      <th>2021-11-18</th>\n",
       "      <td>4282152</td>\n",
       "      <td>71982</td>\n",
       "    </tr>\n",
       "    <tr>\n",
       "      <th>2021-11-19</th>\n",
       "      <td>4286622</td>\n",
       "      <td>72082</td>\n",
       "    </tr>\n",
       "  </tbody>\n",
       "</table>\n",
       "<p>341 rows × 2 columns</p>\n",
       "</div>"
      ],
      "text/plain": [
       "                 tot_cases  tot_death\n",
       "submission_date                      \n",
       "2020-12-14         1482141      27183\n",
       "2020-12-15         1500538      27402\n",
       "2020-12-16         1519340      27616\n",
       "2020-12-17         1539189      27851\n",
       "2020-12-18         1555981      28096\n",
       "...                    ...        ...\n",
       "2021-11-15         4268082      71633\n",
       "2021-11-16         4272442      71722\n",
       "2021-11-17         4277364      71844\n",
       "2021-11-18         4282152      71982\n",
       "2021-11-19         4286622      72082\n",
       "\n",
       "[341 rows x 2 columns]"
      ]
     },
     "execution_count": 170,
     "metadata": {},
     "output_type": "execute_result"
    }
   ],
   "source": [
    "datewise_tx = datewise_tx.groupby([\"submission_date\"]).agg({\"tot_cases\":'sum',\"tot_death\":'sum'})"
   ]
  },
  {
   "cell_type": "code",
   "execution_count": 171,
   "id": "arranged-collector",
   "metadata": {},
   "outputs": [],
   "source": [
    "datewise_tx[\"Days Since\"] = datewise_tx.index-datewise_tx.index[0]\n",
    "datewise_tx[\"Days Since\"] = datewise_tx[\"Days Since\"].dt.days\n",
    "datewise_tx\n",
    "train_ml_tx, valid_ml_tx = split_train_test(0.8, datewise_tx)"
   ]
  },
  {
   "cell_type": "markdown",
   "id": "graphic-documentation",
   "metadata": {},
   "source": [
    "#### One week predictions for Texas"
   ]
  },
  {
   "cell_type": "code",
   "execution_count": 172,
   "id": "moved-wrist",
   "metadata": {},
   "outputs": [
    {
     "name": "stdout",
     "output_type": "stream",
     "text": [
      "RMSE for Ridge Regression Regression:  [360739.008769759]\n",
      "Mean Absolute Error:  358889.2838986177\n",
      "R2-Squared: -6.605392141677496\n"
     ]
    },
    {
     "data": {
      "image/png": "[encoded data removed]",
      "text/plain": [
       "<Figure size 432x288 with 1 Axes>"
      ]
     },
     "metadata": {},
     "output_type": "display_data"
    }
   ],
   "source": [
    "forecast_r_tx, new_date_time_index_tx, model_score_r_tx = RidgeRegression_covid_19(20,train_ml_tx[\"tot_cases\"],valid_ml_tx[\"tot_cases\"],datewise_tx[\"tot_cases\"],'Confirmed Cases', datewise_tx)\n"
   ]
  },
  {
   "cell_type": "markdown",
   "id": "fabulous-offering",
   "metadata": {},
   "source": [
    "#### Average value for prediction for the next week in Texas"
   ]
  },
  {
   "cell_type": "code",
   "execution_count": 219,
   "id": "yellow-stuff",
   "metadata": {},
   "outputs": [
    {
     "data": {
      "text/plain": [
       "3984442.8460686724"
      ]
     },
     "execution_count": 219,
     "metadata": {},
     "output_type": "execute_result"
    }
   ],
   "source": [
    "np.mean(forecast_r_tx[-7:])"
   ]
  },
  {
   "cell_type": "markdown",
   "id": "disturbed-selection",
   "metadata": {},
   "source": [
    "The predicted average total cases for Texas in the next 7 days after November 19th is 3984442.846."
   ]
  },
  {
   "cell_type": "markdown",
   "id": "chinese-observation",
   "metadata": {},
   "source": [
    "# Random forest models"
   ]
  },
  {
   "cell_type": "markdown",
   "id": "dominican-apartment",
   "metadata": {},
   "source": [
    "## Define some functions for random forest for later use"
   ]
  },
  {
   "cell_type": "code",
   "execution_count": 175,
   "id": "covered-awareness",
   "metadata": {},
   "outputs": [],
   "source": [
    "# split a dataset into train/test sets\n",
    "def train_test_split(data, n_test):\n",
    "    return data[:-n_test, :], data[-n_test:, :]"
   ]
  },
  {
   "cell_type": "code",
   "execution_count": 187,
   "id": "sharing-union",
   "metadata": {},
   "outputs": [],
   "source": [
    "# transform a time series dataset into a supervised learning dataset\n",
    "def series_to_supervised(data, n_in=1, n_out=1, dropnan=True):\n",
    "    n_vars = 1 if type(data) is list else data.shape[1]\n",
    "    df = DataFrame(data)\n",
    "    cols = list()\n",
    "    # input sequence (t-n, ... t-1)\n",
    "    for i in range(n_in, 0, -1):\n",
    "        cols.append(df.shift(i))\n",
    "    # forecast sequence (t, t+1, ... t+n)\n",
    "    for i in range(0, n_out):\n",
    "        cols.append(df.shift(-i))\n",
    "    # put it all together\n",
    "    agg = concat(cols, axis=1)\n",
    "    # drop rows with NaN values\n",
    "    if dropnan:\n",
    "        agg.dropna(inplace=True)\n",
    "    return agg.values"
   ]
  },
  {
   "cell_type": "code",
   "execution_count": 176,
   "id": "ideal-rebate",
   "metadata": {},
   "outputs": [],
   "source": [
    "# fit random forest model\n",
    "def random_forest_forecast(train, testX):\n",
    "    train = asarray(train)\n",
    "    trainX, trainy = train[:, :-1], train[:, -1]\n",
    "    model = RandomForestRegressor(n_estimators=1000)\n",
    "    model.fit(trainX, trainy)\n",
    "    yhat = model.predict([testX])\n",
    "    return yhat[0]"
   ]
  },
  {
   "cell_type": "code",
   "execution_count": 230,
   "id": "spoken-thumb",
   "metadata": {},
   "outputs": [],
   "source": [
    "# walk-forward validation\n",
    "def walk_forward_validation(data, n_test):\n",
    "    predictions = list()\n",
    "    train, test = train_test_split(data, n_test)\n",
    "    history = [x for x in train]\n",
    "    for i in range(len(test)):\n",
    "        testX, testy = test[i, :-1], test[i, -1]\n",
    "        yhat = random_forest_forecast(history, testX)\n",
    "        predictions.append(yhat)\n",
    "        history.append(test[i])\n",
    "        print('>expected=%.1f, predicted=%.1f' % (testy, yhat))\n",
    "    error = mean_absolute_error(test[:, -1], predictions)\n",
    "    print(predictions)\n",
    "    return error, test[:, -1], predictions"
   ]
  },
  {
   "cell_type": "markdown",
   "id": "polished-culture",
   "metadata": {},
   "source": [
    "The R^2 for the ridge regression are not very high. The value for FLorida and Texas are negative, indicating the model does not have a good fit."
   ]
  },
  {
   "cell_type": "markdown",
   "id": "governing-azerbaijan",
   "metadata": {},
   "source": [
    "## Random forest model for California"
   ]
  },
  {
   "cell_type": "code",
   "execution_count": 178,
   "id": "quantitative-arrest",
   "metadata": {},
   "outputs": [],
   "source": [
    "# load the dataset\n",
    "series_ca  = df_state_ca[['tot_cases']]\n",
    "values_ca = series_ca.values"
   ]
  },
  {
   "cell_type": "code",
   "execution_count": 211,
   "id": "comparable-inside",
   "metadata": {},
   "outputs": [
    {
     "name": "stdout",
     "output_type": "stream",
     "text": [
      ">expected=4937188.0, predicted=4932200.4\n",
      ">expected=4937188.0, predicted=4935532.8\n",
      ">expected=4956081.0, predicted=4936692.6\n",
      ">expected=4960026.0, predicted=4949281.5\n",
      ">expected=4963742.0, predicted=4955683.5\n",
      ">expected=4972469.0, predicted=4960634.1\n",
      ">expected=4972469.0, predicted=4967925.9\n",
      ">expected=4984465.0, predicted=4970874.9\n",
      ">expected=4984465.0, predicted=4979996.6\n",
      ">expected=4992875.0, predicted=4982649.1\n",
      ">expected=4997390.0, predicted=4989051.0\n",
      ">expected=5001302.0, predicted=4994089.6\n",
      ">expected=5009101.0, predicted=4998785.6\n",
      ">expected=5014428.0, predicted=5005544.6\n",
      "[4932200.403, 4935532.799, 4936692.647, 4949281.463, 4955683.496, 4960634.143, 4967925.924, 4970874.919, 4979996.582, 4982649.143, 4989051.028, 4994089.569, 4998785.575, 5005544.616]\n",
      "MAE: 8874.764\n"
     ]
    },
    {
     "data": {
      "image/png": "[encoded data removed]",
      "text/plain": [
       "<Figure size 432x288 with 1 Axes>"
      ]
     },
     "metadata": {},
     "output_type": "display_data"
    }
   ],
   "source": [
    "# transform the time series data into supervised learning\n",
    "data_ca = series_to_supervised(values_ca, n_in=6)\n",
    "\n",
    "# evaluate\n",
    "mae, y, yhat = walk_forward_validation(data_ca, 14)\n",
    "\n",
    "print('MAE: %.3f' % mae)\n",
    "\n",
    "# plot expected vs predicted\n",
    "plt.plot(y, label='Expected')\n",
    "plt.plot(yhat, label='Predicted')\n",
    "plt.legend()\n",
    "plt.show()"
   ]
  },
  {
   "cell_type": "code",
   "execution_count": 180,
   "id": "valuable-telescope",
   "metadata": {},
   "outputs": [
    {
     "name": "stdout",
     "output_type": "stream",
     "text": [
      "Mean Absolute Error:  8870.10578571433\n",
      "R2-Squared: 0.8280642147192246\n"
     ]
    }
   ],
   "source": [
    "# evaluate the model\n",
    "eval_reg(y, yhat)"
   ]
  },
  {
   "cell_type": "markdown",
   "id": "danish-titanium",
   "metadata": {},
   "source": [
    "### Predict new total case number "
   ]
  },
  {
   "cell_type": "code",
   "execution_count": 213,
   "id": "incredible-feature",
   "metadata": {},
   "outputs": [],
   "source": [
    "# transform the time series data into supervised learning\n",
    "train_ca = series_to_supervised(values_ca, n_in=6)\n",
    "\n",
    "# split into input and output columns\n",
    "trainX, trainy = train_ca[:, :-1], train_ca[:, -1]\n",
    "\n",
    "# fit model \n",
    "model = RandomForestRegressor(n_estimators=10000)\n",
    "\n",
    "model.fit(trainX, trainy)\n",
    "# construct an input for a new prediction\n",
    "row = values_ca[-6:].flatten()"
   ]
  },
  {
   "cell_type": "code",
   "execution_count": 214,
   "id": "collaborative-carbon",
   "metadata": {},
   "outputs": [
    {
     "name": "stdout",
     "output_type": "stream",
     "text": [
      "Input: [4984465 4992875 4997390 5001302 5009101 5014428], Predicted: 5011117.356\n",
      "Input: [4992875.     4997390.     5001302.     5009101.     5014428.\n",
      " 5011117.3563], Predicted: 5011117.356\n",
      "Input: [4997390.     5001302.     5009101.     5014428.     5011117.3563\n",
      " 5011117.3563], Predicted: 5011117.356\n",
      "Input: [5001302.     5009101.     5014428.     5011117.3563 5011117.3563\n",
      " 5011117.3563], Predicted: 5011117.356\n",
      "Input: [5009101.     5014428.     5011117.3563 5011117.3563 5011117.3563\n",
      " 5011117.3563], Predicted: 5011117.356\n",
      "Input: [5014428.     5011117.3563 5011117.3563 5011117.3563 5011117.3563\n",
      " 5011117.3563], Predicted: 5011117.356\n",
      "Input: [5011117.3563 5011117.3563 5011117.3563 5011117.3563 5011117.3563\n",
      " 5011117.3563], Predicted: 5011117.356\n",
      "Input: [5011117.3563 5011117.3563 5011117.3563 5011117.3563 5011117.3563\n",
      " 5011117.3563], Predicted: 5011117.356\n",
      "Input: [5011117.3563 5011117.3563 5011117.3563 5011117.3563 5011117.3563\n",
      " 5011117.3563], Predicted: 5011117.356\n",
      "Input: [5011117.3563 5011117.3563 5011117.3563 5011117.3563 5011117.3563\n",
      " 5011117.3563], Predicted: 5011117.356\n",
      "Input: [5011117.3563 5011117.3563 5011117.3563 5011117.3563 5011117.3563\n",
      " 5011117.3563], Predicted: 5011117.356\n",
      "Input: [5011117.3563 5011117.3563 5011117.3563 5011117.3563 5011117.3563\n",
      " 5011117.3563], Predicted: 5011117.356\n",
      "Input: [5011117.3563 5011117.3563 5011117.3563 5011117.3563 5011117.3563\n",
      " 5011117.3563], Predicted: 5011117.356\n",
      "Input: [5011117.3563 5011117.3563 5011117.3563 5011117.3563 5011117.3563\n",
      " 5011117.3563], Predicted: 5011117.356\n",
      "Input: [5011117.3563 5011117.3563 5011117.3563 5011117.3563 5011117.3563\n",
      " 5011117.3563], Predicted: 5011117.356\n"
     ]
    }
   ],
   "source": [
    "for i in range(15):\n",
    "    row=row[-6:]\n",
    "    print('Input: %s, Predicted: %.3f' % (row, model.predict(asarray([row]))[0]))\n",
    "    row = np.append(row, model.predict(asarray([row]))[0])"
   ]
  },
  {
   "cell_type": "markdown",
   "id": "caring-testimony",
   "metadata": {},
   "source": [
    "#### Plot for the predicted and forcast values"
   ]
  },
  {
   "cell_type": "code",
   "execution_count": 215,
   "id": "nervous-holly",
   "metadata": {},
   "outputs": [
    {
     "data": {
      "text/plain": [
       "[<matplotlib.lines.Line2D at 0x7f8cb63aac90>]"
      ]
     },
     "execution_count": 215,
     "metadata": {},
     "output_type": "execute_result"
    },
    {
     "data": {
      "image/png": "[encoded data removed]",
      "text/plain": [
       "<Figure size 432x288 with 1 Axes>"
      ]
     },
     "metadata": {},
     "output_type": "display_data"
    }
   ],
   "source": [
    "yhat_plot = np.append(yhat, row)\n",
    "plt.plot(yhat_plot, label='Forecast')"
   ]
  },
  {
   "cell_type": "markdown",
   "id": "boring-investment",
   "metadata": {},
   "source": [
    "The predicted total case for California in the next 7 days is 5011117.356."
   ]
  },
  {
   "cell_type": "markdown",
   "id": "undefined-apache",
   "metadata": {},
   "source": [
    "### Finding the nodes\n",
    "Our random forest model has an issue of predicting the same values for every single day.\n",
    "The largest value of your threshold is not able to split the 2 values you are trying to predict,\n",
    "hence they will always end up in the same nodes, giving you the same prediction."
   ]
  },
  {
   "cell_type": "code",
   "execution_count": 184,
   "id": "electronic-rescue",
   "metadata": {},
   "outputs": [],
   "source": [
    "threshold = np.unique([j for i in model.estimators_ for j in i.tree_.threshold])"
   ]
  },
  {
   "cell_type": "code",
   "execution_count": 185,
   "id": "macro-workplace",
   "metadata": {},
   "outputs": [
    {
     "data": {
      "text/plain": [
       "array([4990785. , 4990927.5, 4992883.5, 4995132.5, 4996783. , 4997088.5,\n",
       "       4999346. , 5000988. , 5003245.5, 5005201.5])"
      ]
     },
     "execution_count": 185,
     "metadata": {},
     "output_type": "execute_result"
    }
   ],
   "source": [
    "np.sort(threshold)[-10:]"
   ]
  },
  {
   "cell_type": "markdown",
   "id": "fuzzy-shakespeare",
   "metadata": {},
   "source": [
    "Since the largest value of your threshold is not able to split the the values at the last node,\n",
    "it always end up in the same node, giving the same prediction. Same issue happens for the fllowing states as well."
   ]
  },
  {
   "cell_type": "markdown",
   "id": "macro-princeton",
   "metadata": {},
   "source": [
    "## Random forest model for Florida"
   ]
  },
  {
   "cell_type": "code",
   "execution_count": 193,
   "id": "favorite-ocean",
   "metadata": {},
   "outputs": [
    {
     "name": "stdout",
     "output_type": "stream",
     "text": [
      ">expected=3659501.0, predicted=3657004.5\n",
      ">expected=3659772.0, predicted=3658661.7\n",
      ">expected=3661582.0, predicted=3659352.9\n",
      ">expected=3663096.0, predicted=3660693.4\n",
      ">expected=3665628.0, predicted=3662216.6\n",
      ">expected=3667139.0, predicted=3664390.0\n",
      ">expected=3668749.0, predicted=3666121.1\n",
      ">expected=3669896.0, predicted=3667800.6\n",
      ">expected=3670931.0, predicted=3669130.6\n",
      ">expected=3672616.0, predicted=3670245.6\n",
      ">expected=3674329.0, predicted=3671767.3\n",
      ">expected=3676337.0, predicted=3673451.7\n",
      ">expected=3677967.0, predicted=3675303.8\n",
      ">expected=3679548.0, predicted=3677013.9\n",
      "[3657004.508, 3658661.713, 3659352.907, 3660693.363, 3662216.576, 3664389.957, 3666121.074, 3667800.607, 3669130.613, 3670245.586, 3671767.262, 3673451.682, 3675303.815, 3677013.917]\n",
      "MAE: 2424.101\n"
     ]
    }
   ],
   "source": [
    "# load the dataset\n",
    "series_fl  = df_state_fl[['tot_cases']]\n",
    "values_fl = series_fl.values\n",
    "\n",
    "# transform the time series data into supervised learning\n",
    "data_fl = series_to_supervised(values_fl, n_in=6)\n",
    "\n",
    "# evaluate\n",
    "mae, y, yhat = walk_forward_validation(data_fl, 14)\n",
    "\n",
    "print('MAE: %.3f' % mae)"
   ]
  },
  {
   "cell_type": "code",
   "execution_count": 194,
   "id": "genetic-electronics",
   "metadata": {},
   "outputs": [
    {
     "data": {
      "image/png": "[encoded data removed]",
      "text/plain": [
       "<Figure size 432x288 with 1 Axes>"
      ]
     },
     "metadata": {},
     "output_type": "display_data"
    }
   ],
   "source": [
    "# plot expected vs predicted\n",
    "plt.plot(y, label='Expected')\n",
    "plt.plot(yhat, label='Predicted')\n",
    "plt.legend()\n",
    "plt.show()"
   ]
  },
  {
   "cell_type": "markdown",
   "id": "lined-engineer",
   "metadata": {},
   "source": [
    "#### Evaluate the model"
   ]
  },
  {
   "cell_type": "code",
   "execution_count": 226,
   "id": "serial-trout",
   "metadata": {},
   "outputs": [
    {
     "name": "stdout",
     "output_type": "stream",
     "text": [
      "Mean Absolute Error:  8874.763785714216\n",
      "R2-Squared: 0.8280133200162414\n"
     ]
    }
   ],
   "source": [
    "eval_reg(y, yhat)"
   ]
  },
  {
   "cell_type": "code",
   "execution_count": 186,
   "id": "dated-lender",
   "metadata": {},
   "outputs": [
    {
     "name": "stdout",
     "output_type": "stream",
     "text": [
      ">expected=4937188.0, predicted=4932127.1\n",
      ">expected=4937188.0, predicted=4935484.0\n",
      ">expected=4956081.0, predicted=4936511.0\n",
      ">expected=4960026.0, predicted=4949279.8\n",
      ">expected=4963742.0, predicted=4955932.8\n",
      ">expected=4972469.0, predicted=4960723.9\n",
      ">expected=4972469.0, predicted=4968587.1\n",
      ">expected=4984465.0, predicted=4971022.6\n",
      ">expected=4984465.0, predicted=4979399.5\n",
      ">expected=4992875.0, predicted=4982290.9\n",
      ">expected=4997390.0, predicted=4989324.8\n",
      ">expected=5001302.0, predicted=4994470.2\n",
      ">expected=5009101.0, predicted=4998506.8\n",
      ">expected=5014428.0, predicted=5005227.6\n",
      "[4932127.143, 4935484.013, 4936511.011, 4949279.809, 4955932.765, 4960723.899, 4968587.143, 4971022.585, 4979399.512, 4982290.913, 4989324.758, 4994470.2, 4998506.826, 5005227.626]\n",
      "MAE: 8878.628\n"
     ]
    }
   ],
   "source": [
    "# transform the time series data into supervised learning\n",
    "data_fl = series_to_supervised(values_ca, n_in=6)\n",
    "# evaluate\n",
    "mae, y, yhat = walk_forward_validation(data_fl, 14)\n",
    "print('MAE: %.3f' % mae)"
   ]
  },
  {
   "cell_type": "markdown",
   "id": "boxed-helmet",
   "metadata": {},
   "source": [
    "### Predict on new date"
   ]
  },
  {
   "cell_type": "code",
   "execution_count": 198,
   "id": "improving-depth",
   "metadata": {},
   "outputs": [],
   "source": [
    "# transform the time series data into supervised learning\n",
    "train_fl = series_to_supervised(values_fl, n_in=6)\n",
    "\n",
    "# split into input and output columns\n",
    "trainX, trainy = train_fl[:, :-1], train_fl[:, -1]\n",
    "\n",
    "# fit model \n",
    "model = RandomForestRegressor(n_estimators=10000)\n",
    "\n",
    "model.fit(trainX, trainy)\n",
    "# construct an input for a new prediction\n",
    "row = values_fl[-6:].flatten()"
   ]
  },
  {
   "cell_type": "code",
   "execution_count": 199,
   "id": "yellow-explanation",
   "metadata": {},
   "outputs": [
    {
     "name": "stdout",
     "output_type": "stream",
     "text": [
      "Input: [3670931 3672616 3674329 3676337 3677967 3679548], Predicted: 3678600.730\n",
      "Input: [3672616.     3674329.     3676337.     3677967.     3679548.\n",
      " 3678600.7296], Predicted: 3678600.730\n",
      "Input: [3674329.     3676337.     3677967.     3679548.     3678600.7296\n",
      " 3678600.7296], Predicted: 3678600.730\n",
      "Input: [3676337.     3677967.     3679548.     3678600.7296 3678600.7296\n",
      " 3678600.7296], Predicted: 3678600.730\n",
      "Input: [3677967.     3679548.     3678600.7296 3678600.7296 3678600.7296\n",
      " 3678600.7296], Predicted: 3678600.730\n",
      "Input: [3679548.     3678600.7296 3678600.7296 3678600.7296 3678600.7296\n",
      " 3678600.7296], Predicted: 3678600.730\n",
      "Input: [3678600.7296 3678600.7296 3678600.7296 3678600.7296 3678600.7296\n",
      " 3678600.7296], Predicted: 3678600.730\n",
      "Input: [3678600.7296 3678600.7296 3678600.7296 3678600.7296 3678600.7296\n",
      " 3678600.7296], Predicted: 3678600.730\n",
      "Input: [3678600.7296 3678600.7296 3678600.7296 3678600.7296 3678600.7296\n",
      " 3678600.7296], Predicted: 3678600.730\n",
      "Input: [3678600.7296 3678600.7296 3678600.7296 3678600.7296 3678600.7296\n",
      " 3678600.7296], Predicted: 3678600.730\n",
      "Input: [3678600.7296 3678600.7296 3678600.7296 3678600.7296 3678600.7296\n",
      " 3678600.7296], Predicted: 3678600.730\n",
      "Input: [3678600.7296 3678600.7296 3678600.7296 3678600.7296 3678600.7296\n",
      " 3678600.7296], Predicted: 3678600.730\n",
      "Input: [3678600.7296 3678600.7296 3678600.7296 3678600.7296 3678600.7296\n",
      " 3678600.7296], Predicted: 3678600.730\n",
      "Input: [3678600.7296 3678600.7296 3678600.7296 3678600.7296 3678600.7296\n",
      " 3678600.7296], Predicted: 3678600.730\n",
      "Input: [3678600.7296 3678600.7296 3678600.7296 3678600.7296 3678600.7296\n",
      " 3678600.7296], Predicted: 3678600.730\n"
     ]
    }
   ],
   "source": [
    "for i in range(15):\n",
    "    row=row[-6:]\n",
    "    print('Input: %s, Predicted: %.3f' % (row, model.predict(asarray([row]))[0]))\n",
    "    row = np.append(row, model.predict(asarray([row]))[0])"
   ]
  },
  {
   "cell_type": "code",
   "execution_count": 201,
   "id": "local-experiment",
   "metadata": {},
   "outputs": [
    {
     "data": {
      "text/plain": [
       "[<matplotlib.lines.Line2D at 0x7f8cb6945d50>]"
      ]
     },
     "execution_count": 201,
     "metadata": {},
     "output_type": "execute_result"
    },
    {
     "data": {
      "image/png": "[encoded data removed]",
      "text/plain": [
       "<Figure size 432x288 with 1 Axes>"
      ]
     },
     "metadata": {},
     "output_type": "display_data"
    }
   ],
   "source": [
    "yhat_plot = np.append(yhat, row)\n",
    "plt.plot(yhat_plot, label='Forecast')"
   ]
  },
  {
   "cell_type": "markdown",
   "id": "super-fashion",
   "metadata": {},
   "source": [
    "The predicted total case for Florida in the next 7 days is 3678600.730."
   ]
  },
  {
   "cell_type": "markdown",
   "id": "dying-projection",
   "metadata": {},
   "source": [
    "## Random forest model for Texas"
   ]
  },
  {
   "cell_type": "code",
   "execution_count": 202,
   "id": "moving-coach",
   "metadata": {},
   "outputs": [
    {
     "name": "stdout",
     "output_type": "stream",
     "text": [
      ">expected=4243143.0, predicted=4238085.7\n",
      ">expected=4244349.0, predicted=4241266.3\n",
      ">expected=4245949.0, predicted=4243265.5\n",
      ">expected=4251485.0, predicted=4244959.2\n",
      ">expected=4255280.0, predicted=4249102.4\n",
      ">expected=4259194.0, predicted=4253087.4\n",
      ">expected=4262152.0, predicted=4256857.3\n",
      ">expected=4266084.0, predicted=4260284.5\n",
      ">expected=4266698.0, predicted=4264123.5\n",
      ">expected=4268082.0, predicted=4265674.1\n",
      ">expected=4272442.0, predicted=4267140.3\n",
      ">expected=4277364.0, predicted=4270620.6\n",
      ">expected=4282152.0, predicted=4274952.3\n",
      ">expected=4286622.0, predicted=4279324.0\n",
      "[4238085.664, 4241266.299, 4243265.505, 4244959.239, 4249102.421, 4253087.372, 4256857.272, 4260284.546, 4264123.461, 4265674.146, 4267140.339, 4270620.586, 4274952.26, 4279324.018]\n",
      "MAE: 5160.919\n"
     ]
    }
   ],
   "source": [
    "# load the dataset\n",
    "series_tx  = df_state_tx[['tot_cases']]\n",
    "values_tx = series_tx.values\n",
    "\n",
    "# transform the time series data into supervised learning\n",
    "data_tx = series_to_supervised(values_tx, n_in=6)\n",
    "\n",
    "# evaluate\n",
    "mae, y, yhat = walk_forward_validation(data_tx, 14)\n",
    "\n",
    "print('MAE: %.3f' % mae)"
   ]
  },
  {
   "cell_type": "markdown",
   "id": "chronic-diploma",
   "metadata": {},
   "source": [
    "#### Plot expected vs predicted"
   ]
  },
  {
   "cell_type": "code",
   "execution_count": 203,
   "id": "desirable-destination",
   "metadata": {},
   "outputs": [
    {
     "data": {
      "image/png": "[encoded data removed]",
      "text/plain": [
       "<Figure size 432x288 with 1 Axes>"
      ]
     },
     "metadata": {},
     "output_type": "display_data"
    }
   ],
   "source": [
    "plt.plot(y, label='Expected')\n",
    "plt.plot(yhat, label='Predicted')\n",
    "plt.legend()\n",
    "plt.show()"
   ]
  },
  {
   "cell_type": "markdown",
   "id": "checked-medicare",
   "metadata": {},
   "source": [
    "#### Evaluate the model"
   ]
  },
  {
   "cell_type": "code",
   "execution_count": 204,
   "id": "intensive-liberal",
   "metadata": {},
   "outputs": [
    {
     "name": "stdout",
     "output_type": "stream",
     "text": [
      "Mean Absolute Error:  5160.91942857146\n",
      "R2-Squared: 0.8353895233136869\n"
     ]
    }
   ],
   "source": [
    "eval_reg(y, yhat)"
   ]
  },
  {
   "cell_type": "code",
   "execution_count": 205,
   "id": "innovative-seating",
   "metadata": {},
   "outputs": [
    {
     "name": "stdout",
     "output_type": "stream",
     "text": [
      ">expected=4243143.0, predicted=4238008.0\n",
      ">expected=4244349.0, predicted=4241579.3\n",
      ">expected=4245949.0, predicted=4243233.3\n",
      ">expected=4251485.0, predicted=4244910.0\n",
      ">expected=4255280.0, predicted=4249094.0\n",
      ">expected=4259194.0, predicted=4252878.3\n",
      ">expected=4262152.0, predicted=4256916.7\n",
      ">expected=4266084.0, predicted=4260161.6\n",
      ">expected=4266698.0, predicted=4264198.5\n",
      ">expected=4268082.0, predicted=4265557.9\n",
      ">expected=4272442.0, predicted=4267288.7\n",
      ">expected=4277364.0, predicted=4270405.1\n",
      ">expected=4282152.0, predicted=4274849.0\n",
      ">expected=4286622.0, predicted=4279665.5\n",
      "[4238007.984, 4241579.319, 4243233.28, 4244909.988, 4249094.043, 4252878.333, 4256916.651, 4260161.59, 4264198.539, 4265557.884, 4267288.719, 4270405.081, 4274848.962, 4279665.458]\n",
      "MAE: 5160.726\n"
     ]
    }
   ],
   "source": [
    "# transform the time series data into supervised learning\n",
    "data_tx = series_to_supervised(values_tx, n_in=6)\n",
    "mae, y, yhat = walk_forward_validation(data_tx, 14)\n",
    "print('MAE: %.3f' % mae)"
   ]
  },
  {
   "cell_type": "markdown",
   "id": "ready-crown",
   "metadata": {},
   "source": [
    "### Predict on new date"
   ]
  },
  {
   "cell_type": "code",
   "execution_count": 208,
   "id": "exterior-employee",
   "metadata": {},
   "outputs": [],
   "source": [
    "# transform the time series data into supervised learning\n",
    "train_tx = series_to_supervised(values_tx, n_in=6)\n",
    "\n",
    "# split into input and output columns\n",
    "trainX, trainy = train_tx[:, :-1], train_tx[:, -1]\n",
    "\n",
    "# fit model \n",
    "model = RandomForestRegressor(n_estimators=10000)\n",
    "model.fit(trainX, trainy)\n",
    "\n",
    "# construct an input for a new prediction\n",
    "row = values_tx[-6:].flatten()"
   ]
  },
  {
   "cell_type": "code",
   "execution_count": 209,
   "id": "stunning-monaco",
   "metadata": {},
   "outputs": [
    {
     "name": "stdout",
     "output_type": "stream",
     "text": [
      "Input: [4266698 4268082 4272442 4277364 4282152 4286622], Predicted: 4284003.455\n",
      "Input: [4268082.     4272442.     4277364.     4282152.     4286622.\n",
      " 4284003.4549], Predicted: 4284003.455\n",
      "Input: [4272442.     4277364.     4282152.     4286622.     4284003.4549\n",
      " 4284003.4549], Predicted: 4284003.455\n",
      "Input: [4277364.     4282152.     4286622.     4284003.4549 4284003.4549\n",
      " 4284003.4549], Predicted: 4284003.455\n",
      "Input: [4282152.     4286622.     4284003.4549 4284003.4549 4284003.4549\n",
      " 4284003.4549], Predicted: 4284003.455\n",
      "Input: [4286622.     4284003.4549 4284003.4549 4284003.4549 4284003.4549\n",
      " 4284003.4549], Predicted: 4284003.455\n",
      "Input: [4284003.4549 4284003.4549 4284003.4549 4284003.4549 4284003.4549\n",
      " 4284003.4549], Predicted: 4284003.455\n",
      "Input: [4284003.4549 4284003.4549 4284003.4549 4284003.4549 4284003.4549\n",
      " 4284003.4549], Predicted: 4284003.455\n",
      "Input: [4284003.4549 4284003.4549 4284003.4549 4284003.4549 4284003.4549\n",
      " 4284003.4549], Predicted: 4284003.455\n",
      "Input: [4284003.4549 4284003.4549 4284003.4549 4284003.4549 4284003.4549\n",
      " 4284003.4549], Predicted: 4284003.455\n",
      "Input: [4284003.4549 4284003.4549 4284003.4549 4284003.4549 4284003.4549\n",
      " 4284003.4549], Predicted: 4284003.455\n",
      "Input: [4284003.4549 4284003.4549 4284003.4549 4284003.4549 4284003.4549\n",
      " 4284003.4549], Predicted: 4284003.455\n",
      "Input: [4284003.4549 4284003.4549 4284003.4549 4284003.4549 4284003.4549\n",
      " 4284003.4549], Predicted: 4284003.455\n",
      "Input: [4284003.4549 4284003.4549 4284003.4549 4284003.4549 4284003.4549\n",
      " 4284003.4549], Predicted: 4284003.455\n",
      "Input: [4284003.4549 4284003.4549 4284003.4549 4284003.4549 4284003.4549\n",
      " 4284003.4549], Predicted: 4284003.455\n"
     ]
    },
    {
     "data": {
      "text/plain": [
       "[<matplotlib.lines.Line2D at 0x7f8cb643c510>]"
      ]
     },
     "execution_count": 209,
     "metadata": {},
     "output_type": "execute_result"
    },
    {
     "data": {
      "image/png": "[encoded data removed]",
      "text/plain": [
       "<Figure size 432x288 with 1 Axes>"
      ]
     },
     "metadata": {},
     "output_type": "display_data"
    }
   ],
   "source": [
    "for i in range(15):\n",
    "    row=row[-6:]\n",
    "    print('Input: %s, Predicted: %.3f' % (row, model.predict(asarray([row]))[0]))\n",
    "    row = np.append(row, model.predict(asarray([row]))[0])\n",
    "yhat_plot = np.append(yhat, row)\n",
    "\n",
    "plt.plot(yhat_plot, label='Forecast')"
   ]
  },
  {
   "cell_type": "markdown",
   "id": "executive-privacy",
   "metadata": {},
   "source": [
    "The predicted total case for Texas in the next 7 days is 4284003.455."
   ]
  },
  {
   "cell_type": "markdown",
   "id": "chinese-diary",
   "metadata": {},
   "source": [
    "Although the R^2 values for the random forest for all three states have value higher than 0.8, the predicted value for the future 7 days does not seem reasonable. After printing out the values for our thresholds, we found that the value at the right node is unable to split the predicted value so they all ended up with the same value. "
   ]
  }
 ],
 "metadata": {
  "kernelspec": {
   "display_name": "Python 3",
   "language": "python",
   "name": "python3"
  },
  "language_info": {
   "codemirror_mode": {
    "name": "ipython",
    "version": 3
   },
   "file_extension": ".py",
   "mimetype": "text/x-python",
   "name": "python",
   "nbconvert_exporter": "python",
   "pygments_lexer": "ipython3",
   "version": "3.7.9"
  }
 },
 "nbformat": 4,
 "nbformat_minor": 5
}
